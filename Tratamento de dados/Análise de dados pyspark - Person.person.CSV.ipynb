{
 "cells": [
  {
   "cell_type": "markdown",
   "metadata": {},
   "source": [
    "## Analisando os dados do arquivo \"Person.Person.csv\""
   ]
  },
  {
   "cell_type": "code",
   "execution_count": 1,
   "metadata": {},
   "outputs": [],
   "source": [
    "#importando as bibliotecas necessarias\n",
    "\n",
    "import pyspark\n",
    "from pyspark.sql import SparkSession\n",
    "from pyspark.sql.types import *\n",
    "from pyspark.sql.functions import *"
   ]
  },
  {
   "cell_type": "code",
   "execution_count": 2,
   "metadata": {},
   "outputs": [
    {
     "name": "stdout",
     "output_type": "stream",
     "text": [
      "mkdir: `/user/ronnan/data/data_project_rox': File exists\n",
      "put: `input/data_project_rox/*.csv': No such file or directory\n"
     ]
    }
   ],
   "source": [
    "#Enviar os dados para o HDFS(executado no terminal do Linux)\n",
    "!hdfs dfs -mkdir /user/ronnan/data/data_project_rox\n",
    "!hdfs dfs -put input/data_project_rox/*.csv /user/ronnan/data/data_project_rox"
   ]
  },
  {
   "cell_type": "code",
   "execution_count": 3,
   "metadata": {
    "scrolled": false
   },
   "outputs": [
    {
     "name": "stdout",
     "output_type": "stream",
     "text": [
      "Found 6 items\r\n",
      "-rw-r--r--   3 root supergroup   13646947 2022-06-19 22:17 /user/ronnan/data/data_project_rox/Person.Person.csv\r\n",
      "-rw-r--r--   3 root supergroup     104823 2022-06-19 22:17 /user/ronnan/data/data_project_rox/Production.Product.csv\r\n",
      "-rw-r--r--   3 root supergroup    1813963 2022-06-19 22:17 /user/ronnan/data/data_project_rox/Sales.Customer.csv\r\n",
      "-rw-r--r--   3 root supergroup   13801182 2022-06-19 22:17 /user/ronnan/data/data_project_rox/Sales.SalesOrderDetail.csv\r\n",
      "-rw-r--r--   3 root supergroup    8267704 2022-06-19 22:17 /user/ronnan/data/data_project_rox/Sales.SalesOrderHeader.csv\r\n",
      "-rw-r--r--   3 root supergroup      36680 2022-06-19 22:17 /user/ronnan/data/data_project_rox/Sales.SpecialOfferProduct.csv\r\n"
     ]
    }
   ],
   "source": [
    "#Verificando se os dados já estão no HDFS\n",
    "!hdfs dfs -ls /user/ronnan/data/data_project_rox"
   ]
  },
  {
   "cell_type": "code",
   "execution_count": 4,
   "metadata": {
    "scrolled": false
   },
   "outputs": [],
   "source": [
    "#criando data_frame para tratamento dos dados, realizando leitura em csv\n",
    "\n",
    "data_person = spark.read.csv(\"/user/ronnan/data/data_project_rox/Person.Person.csv\"\n",
    "                            ,sep = \";\",inferSchema=True, header=True,ignoreLeadingWhiteSpace=True)"
   ]
  },
  {
   "cell_type": "code",
   "execution_count": 5,
   "metadata": {
    "scrolled": true
   },
   "outputs": [
    {
     "name": "stdout",
     "output_type": "stream",
     "text": [
      "root\n",
      " |-- BusinessEntityID: integer (nullable = true)\n",
      " |-- PersonType: string (nullable = true)\n",
      " |-- NameStyle: integer (nullable = true)\n",
      " |-- Title: string (nullable = true)\n",
      " |-- FirstName: string (nullable = true)\n",
      " |-- MiddleName: string (nullable = true)\n",
      " |-- LastName: string (nullable = true)\n",
      " |-- Suffix: string (nullable = true)\n",
      " |-- EmailPromotion: integer (nullable = true)\n",
      " |-- AdditionalContactInfo: string (nullable = true)\n",
      " |-- Demographics: string (nullable = true)\n",
      " |-- rowguid: string (nullable = true)\n",
      " |-- ModifiedDate: timestamp (nullable = true)\n",
      "\n",
      "None\n"
     ]
    }
   ],
   "source": [
    "# verificando se o esquema foi atribuido\n",
    "print(data_person.printSchema())"
   ]
  },
  {
   "cell_type": "code",
   "execution_count": 6,
   "metadata": {},
   "outputs": [
    {
     "name": "stdout",
     "output_type": "stream",
     "text": [
      "+-------+------------------+\n",
      "|summary|  BusinessEntityID|\n",
      "+-------+------------------+\n",
      "|  count|             19972|\n",
      "|   mean|10763.079411175646|\n",
      "| stddev|5814.1332719480615|\n",
      "|    min|                 1|\n",
      "|    max|             20777|\n",
      "+-------+------------------+\n",
      "\n"
     ]
    }
   ],
   "source": [
    "#verificando os dados da coluna BusinessEntityID\n",
    "data_person.select('BusinessEntityID').describe().show()"
   ]
  },
  {
   "cell_type": "code",
   "execution_count": 7,
   "metadata": {
    "scrolled": false
   },
   "outputs": [
    {
     "name": "stdout",
     "output_type": "stream",
     "text": [
      "+-------+----------+\n",
      "|summary|PersonType|\n",
      "+-------+----------+\n",
      "|  count|     19972|\n",
      "|   mean|      null|\n",
      "| stddev|      null|\n",
      "|    min|        EM|\n",
      "|    max|        VC|\n",
      "+-------+----------+\n",
      "\n"
     ]
    }
   ],
   "source": [
    "#verificando os dados da coluna PersonType\n",
    "data_person.select('PersonType').describe().show()"
   ]
  },
  {
   "cell_type": "code",
   "execution_count": 8,
   "metadata": {},
   "outputs": [
    {
     "name": "stdout",
     "output_type": "stream",
     "text": [
      "+----------------+----------+---------+\n",
      "|BusinessEntityID|PersonType|NameStyle|\n",
      "+----------------+----------+---------+\n",
      "|               1|        EM|        0|\n",
      "|               2|        EM|        0|\n",
      "|               3|        EM|        0|\n",
      "|               4|        EM|        0|\n",
      "|               5|        EM|        0|\n",
      "|               6|        EM|        0|\n",
      "|               7|        EM|        0|\n",
      "|               8|        EM|        0|\n",
      "|               9|        EM|        0|\n",
      "|              10|        EM|        0|\n",
      "|              11|        EM|        0|\n",
      "|              12|        EM|        0|\n",
      "|              13|        EM|        0|\n",
      "|              14|        EM|        0|\n",
      "|              15|        EM|        0|\n",
      "|              16|        EM|        0|\n",
      "|              17|        EM|        0|\n",
      "|              18|        EM|        0|\n",
      "|              19|        EM|        0|\n",
      "|              20|        EM|        0|\n",
      "+----------------+----------+---------+\n",
      "only showing top 20 rows\n",
      "\n"
     ]
    }
   ],
   "source": [
    "#explorando os dados das colunas BusinessEntityID,PersonType,NameStyle\n",
    "data_person.select('BusinessEntityID','PersonType',\"NameStyle\").show()"
   ]
  },
  {
   "cell_type": "code",
   "execution_count": 9,
   "metadata": {
    "scrolled": false
   },
   "outputs": [
    {
     "name": "stdout",
     "output_type": "stream",
     "text": [
      "+----------+-----+\n",
      "|PersonType|count|\n",
      "+----------+-----+\n",
      "|        SC|  753|\n",
      "|        SP|   17|\n",
      "|        IN|18484|\n",
      "|        EM|  273|\n",
      "|        GC|  289|\n",
      "|        VC|  156|\n",
      "+----------+-----+\n",
      "\n",
      "+---------+-----+\n",
      "|NameStyle|count|\n",
      "+---------+-----+\n",
      "|        0|19972|\n",
      "+---------+-----+\n",
      "\n",
      "+-----+-----+\n",
      "|Title|count|\n",
      "+-----+-----+\n",
      "| Sra.|    3|\n",
      "|  Ms.|  415|\n",
      "|  Mr.|  577|\n",
      "| Mrs.|    2|\n",
      "|  Sr.|   11|\n",
      "|   Ms|    1|\n",
      "| NULL|18963|\n",
      "+-----+-----+\n",
      "\n",
      "+---------+-----+\n",
      "|FirstName|count|\n",
      "+---------+-----+\n",
      "|   Britta|    2|\n",
      "|    Tyler|   24|\n",
      "|     Chad|   23|\n",
      "| Samantha|   46|\n",
      "|    Shawn|   25|\n",
      "|  Shannon|   42|\n",
      "|  Carolyn|   43|\n",
      "|   Manish|    1|\n",
      "|      Sue|    1|\n",
      "|   Damien|   38|\n",
      "|    Scott|   15|\n",
      "|Robertson|    1|\n",
      "|   Lorrin|    2|\n",
      "|   Sheena|   22|\n",
      "|    Ruben|   44|\n",
      "|   Wilson|    1|\n",
      "|   Kristy|   21|\n",
      "|  Ioannis|    1|\n",
      "|    Lucas|   93|\n",
      "|    Grace|   69|\n",
      "+---------+-----+\n",
      "only showing top 20 rows\n",
      "\n",
      "+----------+-----+\n",
      "|MiddleName|count|\n",
      "+----------+-----+\n",
      "|         K|  361|\n",
      "|    Hierro|    1|\n",
      "|     Slone|    1|\n",
      "|     Scott|    1|\n",
      "|         l|    5|\n",
      "|         F|  226|\n",
      "|     Rudra|    1|\n",
      "|        Z.|    1|\n",
      "|        K.|   21|\n",
      "|         Q|    9|\n",
      "|        G.|    1|\n",
      "|        L.|   40|\n",
      "|   Edvaldo|    1|\n",
      "|      Greg|    1|\n",
      "|         E|  736|\n",
      "|         T|  267|\n",
      "|Uwaifiokun|    1|\n",
      "|         B|  291|\n",
      "|        T.|   17|\n",
      "|        M.|   82|\n",
      "+----------+-----+\n",
      "only showing top 20 rows\n",
      "\n",
      "+----------+-----+\n",
      "|  LastName|count|\n",
      "+----------+-----+\n",
      "|  Moreland|    2|\n",
      "| Cavallari|    1|\n",
      "|   Salanki|    1|\n",
      "|   Weadock|    1|\n",
      "|   Camargo|    1|\n",
      "|     Teper|    1|\n",
      "|   Youtsey|    1|\n",
      "|       Ito|    1|\n",
      "|  Harrison|   12|\n",
      "|    Porter|    2|\n",
      "|  Ruggiero|    2|\n",
      "|    Sotelo|    1|\n",
      "|      Swan|    1|\n",
      "|Wellington|    1|\n",
      "|      Arun|   58|\n",
      "|   Masters|    3|\n",
      "|     Wedge|    2|\n",
      "|Pournasseh|    2|\n",
      "|    Wilson|   82|\n",
      "|     Akers|    3|\n",
      "+----------+-----+\n",
      "only showing top 20 rows\n",
      "\n",
      "+------+-----+\n",
      "|Suffix|count|\n",
      "+------+-----+\n",
      "|   III|    3|\n",
      "|    IV|    3|\n",
      "|   PhD|    2|\n",
      "|    II|    6|\n",
      "|   Sr.|    6|\n",
      "|   Jr.|   33|\n",
      "|  NULL|19919|\n",
      "+------+-----+\n",
      "\n",
      "+--------------+-----+\n",
      "|EmailPromotion|count|\n",
      "+--------------+-----+\n",
      "|             1| 5044|\n",
      "|             2| 3770|\n",
      "|             0|11158|\n",
      "+--------------+-----+\n",
      "\n",
      "+---------------------+-----+\n",
      "|AdditionalContactInfo|count|\n",
      "+---------------------+-----+\n",
      "| \"<AdditionalConta...|    1|\n",
      "| \"<AdditionalConta...|    1|\n",
      "| \"<AdditionalConta...|    1|\n",
      "| \"<AdditionalConta...|    1|\n",
      "| \"<AdditionalConta...|    1|\n",
      "| \"<AdditionalConta...|    1|\n",
      "| \"<AdditionalConta...|    1|\n",
      "| \"<AdditionalConta...|    1|\n",
      "| \"<AdditionalConta...|    1|\n",
      "| \"<AdditionalConta...|    1|\n",
      "|                 NULL|19962|\n",
      "+---------------------+-----+\n",
      "\n",
      "+--------------------+-----+\n",
      "|        Demographics|count|\n",
      "+--------------------+-----+\n",
      "|\"<IndividualSurve...|    1|\n",
      "|\"<IndividualSurve...|    1|\n",
      "|\"<IndividualSurve...|    1|\n",
      "|\"<IndividualSurve...|    1|\n",
      "|\"<IndividualSurve...|    1|\n",
      "|\"<IndividualSurve...|    1|\n",
      "|\"<IndividualSurve...|    1|\n",
      "|\"<IndividualSurve...|    1|\n",
      "|\"<IndividualSurve...|    1|\n",
      "|\"<IndividualSurve...|    1|\n",
      "|\"<IndividualSurve...|    1|\n",
      "|\"<IndividualSurve...|    1|\n",
      "|\"<IndividualSurve...|    1|\n",
      "|\"<IndividualSurve...|    1|\n",
      "|\"<IndividualSurve...|    1|\n",
      "|\"<IndividualSurve...|    1|\n",
      "|\"<IndividualSurve...|    1|\n",
      "|\"<IndividualSurve...|    1|\n",
      "|\"<IndividualSurve...|    1|\n",
      "|\"<IndividualSurve...|    1|\n",
      "+--------------------+-----+\n",
      "only showing top 20 rows\n",
      "\n",
      "+--------------------+-----+\n",
      "|             rowguid|count|\n",
      "+--------------------+-----+\n",
      "|866472D1-65C3-4AA...|    1|\n",
      "|F3A921DD-55EB-46E...|    1|\n",
      "|6701B3D4-654F-452...|    1|\n",
      "|CFB11FCB-979F-42A...|    1|\n",
      "|1A087930-B829-4A7...|    1|\n",
      "|6DFAC7EC-0A3A-432...|    1|\n",
      "|41ECAE57-558B-424...|    1|\n",
      "|0AE8AE9C-F1D6-4A6...|    1|\n",
      "|7AFCF02F-F48D-4DE...|    1|\n",
      "|D51C5C25-F89C-4C1...|    1|\n",
      "|2FDBD696-87AE-492...|    1|\n",
      "|AA730729-ECE2-4B4...|    1|\n",
      "|FF4EF71F-9A15-414...|    1|\n",
      "|002FF2CA-8D69-42A...|    1|\n",
      "|4454B4B4-67AF-48A...|    1|\n",
      "|CC38F32C-DB1C-4B1...|    1|\n",
      "|B2E3828C-71C6-443...|    1|\n",
      "|3605EE96-B6C0-4A3...|    1|\n",
      "|FC03034B-18B9-4BB...|    1|\n",
      "|8272C695-E895-406...|    1|\n",
      "+--------------------+-----+\n",
      "only showing top 20 rows\n",
      "\n",
      "+-------------------+-----+\n",
      "|       ModifiedDate|count|\n",
      "+-------------------+-----+\n",
      "|2012-07-11 00:00:00|    9|\n",
      "|2012-01-22 00:00:00|   10|\n",
      "|2013-10-31 00:00:00|   39|\n",
      "|2012-10-20 00:00:00|    7|\n",
      "|2011-10-10 00:00:00|    7|\n",
      "|2011-12-04 00:00:00|    5|\n",
      "|2007-12-13 00:00:00|    2|\n",
      "|2013-09-22 00:00:00|   33|\n",
      "|2011-08-27 00:00:00|   10|\n",
      "|2013-07-08 00:00:00|   33|\n",
      "|2012-01-16 00:00:00|    3|\n",
      "|2011-12-27 00:00:00|    5|\n",
      "|2012-12-17 00:00:00|    7|\n",
      "|2014-01-20 00:00:00|   36|\n",
      "|2012-01-19 00:00:00|    6|\n",
      "|2014-05-25 00:00:00|   38|\n",
      "|2013-08-25 00:00:00|   42|\n",
      "|2011-08-21 00:00:00|    8|\n",
      "|2011-10-18 00:00:00|    3|\n",
      "|2013-04-17 00:00:00|    7|\n",
      "+-------------------+-----+\n",
      "only showing top 20 rows\n",
      "\n"
     ]
    }
   ],
   "source": [
    "# explorando os dados de cada coluna para verificar se a necessidade de alguma normalização\n",
    "\n",
    "data_person_PersonType = data_person.groupBy(\"PersonType\").count()\n",
    "data_person_PersonType.show()\n",
    "\n",
    "data_person_NameStyle = data_person.groupBy(\"NameStyle\").count()\n",
    "data_person_NameStyle.show()\n",
    "\n",
    "data_person_Title = data_person.groupBy(\"Title\").count()\n",
    "data_person_Title.show()\n",
    "\n",
    "data_person_FirstName = data_person.groupBy(\"FirstName\").count()\n",
    "data_person_FirstName.show()\n",
    "\n",
    "data_person_MiddleName = data_person.groupBy(\"MiddleName\").count()\n",
    "data_person_MiddleName.show()\n",
    "\n",
    "data_person_LastName = data_person.groupBy(\"LastName\").count()\n",
    "data_person_LastName.show()\n",
    "\n",
    "data_person_Suffix = data_person.groupBy(\"Suffix\").count()\n",
    "data_person_Suffix.show()\n",
    "\n",
    "data_person_EmailPromotion = data_person.groupBy(\"EmailPromotion\").count()\n",
    "data_person_EmailPromotion.show()\n",
    "\n",
    "data_person_AdditionalContactInfo= data_person.groupBy(\"AdditionalContactInfo\").count()\n",
    "data_person_AdditionalContactInfo.show()\n",
    "\n",
    "data_person_Demographics= data_person.groupBy(\"Demographics\").count()\n",
    "data_person_Demographics.show()\n",
    "\n",
    "data_person_rowguid= data_person.groupBy(\"rowguid\").count()\n",
    "data_person_rowguid.show()\n",
    "\n",
    "data_person_ModifiedDate= data_person.groupBy(\"ModifiedDate\").count()\n",
    "data_person_ModifiedDate.show()\n",
    "\n"
   ]
  },
  {
   "cell_type": "code",
   "execution_count": 10,
   "metadata": {
    "scrolled": true
   },
   "outputs": [],
   "source": [
    "# criando variavel para ajustar o campo para novo formato de data para date\n",
    "\n",
    "data_person_data_formatada = data_person.withColumn(\"ModifiedDate\",to_timestamp(col(\"ModifiedDate\")))\\\n",
    "                                        .withColumn(\"ModifiedDate\",to_date(col(\"ModifiedDate\")))"
   ]
  },
  {
   "cell_type": "code",
   "execution_count": 11,
   "metadata": {},
   "outputs": [],
   "source": [
    "# aplicando regex para alterar as colunas que encontramos variaveis despadronizadas\n",
    "\n",
    "from pyspark.sql.functions import regexp_replace"
   ]
  },
  {
   "cell_type": "code",
   "execution_count": 12,
   "metadata": {},
   "outputs": [],
   "source": [
    "# alterando ms. para ms\n",
    "data_regex = data_person_data_formatada.withColumn('Title', regexp_replace('Title', 'Ms.', 'Ms'))"
   ]
  },
  {
   "cell_type": "code",
   "execution_count": 13,
   "metadata": {},
   "outputs": [],
   "source": [
    "# alterando sra.para ms\n",
    "data_regex = data_regex.withColumn('Title', regexp_replace('Title','Sra.','Ms'))"
   ]
  },
  {
   "cell_type": "code",
   "execution_count": 14,
   "metadata": {},
   "outputs": [],
   "source": [
    "# alterando mrs. para ms\n",
    "data_regex = data_regex.withColumn('Title', regexp_replace('Title','Mrs.','Ms'))"
   ]
  },
  {
   "cell_type": "code",
   "execution_count": 15,
   "metadata": {},
   "outputs": [],
   "source": [
    "# alterando sr. para mr\n",
    "data_regex = data_regex.withColumn('Title', regexp_replace('Title','Sr.','Mr'))"
   ]
  },
  {
   "cell_type": "code",
   "execution_count": 16,
   "metadata": {},
   "outputs": [],
   "source": [
    "# alterando mr. para mr\n",
    "data_regex = data_regex.withColumn('Title', regexp_replace('Title','Mr.','Mr'))"
   ]
  },
  {
   "cell_type": "code",
   "execution_count": 17,
   "metadata": {},
   "outputs": [
    {
     "name": "stdout",
     "output_type": "stream",
     "text": [
      "+-----+-----+\n",
      "|Title|count|\n",
      "+-----+-----+\n",
      "|   Mr|  588|\n",
      "|   Ms|  421|\n",
      "| NULL|18963|\n",
      "+-----+-----+\n",
      "\n"
     ]
    }
   ],
   "source": [
    "data_regex_gpby = data_regex.groupBy(\"Title\").count()\n",
    "data_regex_gpby.show()"
   ]
  },
  {
   "cell_type": "code",
   "execution_count": 18,
   "metadata": {},
   "outputs": [],
   "source": [
    "# alterando padronizando a coluna middleName para a coluna estar apenas com a primeira letra do meio do nome\n",
    "data_regex_upper = data_regex.withColumn('MiddleName', data_regex['MiddleName'].substr(0, 1))"
   ]
  },
  {
   "cell_type": "code",
   "execution_count": 19,
   "metadata": {},
   "outputs": [],
   "source": [
    "# alterando para maiusculo\n",
    "data_person_final = data_regex_upper.withColumn('MiddleName', upper(data_regex_upper.MiddleName))"
   ]
  },
  {
   "cell_type": "code",
   "execution_count": 20,
   "metadata": {},
   "outputs": [
    {
     "name": "stdout",
     "output_type": "stream",
     "text": [
      "+----------+\n",
      "|MiddleName|\n",
      "+----------+\n",
      "|         J|\n",
      "|         L|\n",
      "|         N|\n",
      "|         N|\n",
      "|         A|\n",
      "|         H|\n",
      "|         A|\n",
      "|         L|\n",
      "|         N|\n",
      "|         N|\n",
      "|         V|\n",
      "|         B|\n",
      "|         M|\n",
      "|         I|\n",
      "|         B|\n",
      "|         M|\n",
      "|         F|\n",
      "|         L|\n",
      "|         A|\n",
      "|         M|\n",
      "+----------+\n",
      "only showing top 20 rows\n",
      "\n"
     ]
    }
   ],
   "source": [
    "# visualizando os dados salvos\n",
    "data_person_final.select('MiddleName').show()"
   ]
  },
  {
   "cell_type": "code",
   "execution_count": 21,
   "metadata": {
    "scrolled": true
   },
   "outputs": [
    {
     "name": "stdout",
     "output_type": "stream",
     "text": [
      "+----------+-----+\n",
      "|MiddleName|count|\n",
      "+----------+-----+\n",
      "|         K|  382|\n",
      "|         F|  245|\n",
      "|         Q|    9|\n",
      "|         E|  771|\n",
      "|         T|  284|\n",
      "|         B|  339|\n",
      "|         Y|   23|\n",
      "|         L| 1319|\n",
      "|         M| 1224|\n",
      "|         V|  132|\n",
      "|         U|    5|\n",
      "|         O|   65|\n",
      "|         D|  577|\n",
      "|         C|  940|\n",
      "|         J| 1133|\n",
      "|         Z|   17|\n",
      "|         A| 1360|\n",
      "|         N| 8641|\n",
      "|         X|    2|\n",
      "|         W|  335|\n",
      "+----------+-----+\n",
      "only showing top 20 rows\n",
      "\n"
     ]
    }
   ],
   "source": [
    "# agrupando os dados para analisar as alterações\n",
    "data_person_final_gb = data_person_final.groupBy(\"MiddleName\").count()\n",
    "data_person_final_gb.show()"
   ]
  },
  {
   "cell_type": "code",
   "execution_count": 22,
   "metadata": {},
   "outputs": [
    {
     "data": {
      "text/plain": [
       "DataFrame[BusinessEntityID: int, PersonType: string, NameStyle: int, Title: string, FirstName: string, MiddleName: string, LastName: string, Suffix: string, EmailPromotion: int, AdditionalContactInfo: string, Demographics: string, rowguid: string, ModifiedDate: date]"
      ]
     },
     "execution_count": 22,
     "metadata": {},
     "output_type": "execute_result"
    }
   ],
   "source": [
    "data_person_final"
   ]
  },
  {
   "cell_type": "code",
   "execution_count": 24,
   "metadata": {},
   "outputs": [],
   "source": [
    "# salvando os dados tratados em um unico em formato .parquet e compressão snappy\n",
    "data_person_final.coalesce(1).write.saveAsTable(\"data_person_parquet\", format=\"parquet\", compression=\"snappy\")"
   ]
  },
  {
   "cell_type": "code",
   "execution_count": 25,
   "metadata": {},
   "outputs": [
    {
     "name": "stdout",
     "output_type": "stream",
     "text": [
      "Found 2 items\r\n",
      "-rw-r--r--   2 root supergroup          0 2022-06-20 23:08 /user/hive/warehouse/data_person_parquet/_SUCCESS\r\n",
      "-rw-r--r--   2 root supergroup    2167247 2022-06-20 23:08 /user/hive/warehouse/data_person_parquet/part-00000-6b8082df-2c98-4ab5-9225-5cf0f34596bc-c000.snappy.parquet\r\n"
     ]
    }
   ],
   "source": [
    "# verificando o arquivo salvo em .parquet\n",
    "!hdfs dfs -ls /user/hive/warehouse/data_person_parquet"
   ]
  },
  {
   "cell_type": "code",
   "execution_count": 27,
   "metadata": {},
   "outputs": [],
   "source": [
    "# salvando em um unico arquivo uma versão em .csv já tratada --> \n",
    "data_person_final.coalesce(1).write.csv(\"data_person_csv\", header=True)"
   ]
  },
  {
   "cell_type": "code",
   "execution_count": 29,
   "metadata": {},
   "outputs": [
    {
     "name": "stdout",
     "output_type": "stream",
     "text": [
      "Found 2 items\r\n",
      "-rw-r--r--   2 root supergroup          0 2022-06-20 23:08 /user/root/data_person_csv/_SUCCESS\r\n",
      "-rw-r--r--   2 root supergroup   13500095 2022-06-20 23:08 /user/root/data_person_csv/part-00000-4ec96501-d667-494f-9116-8e48d28434f4-c000.csv\r\n"
     ]
    }
   ],
   "source": [
    "# verificando o caminho que o arquivo foi salvo\n",
    "!hdfs dfs -ls /user/root/data_person_csv"
   ]
  },
  {
   "cell_type": "code",
   "execution_count": null,
   "metadata": {},
   "outputs": [],
   "source": [
    "#exportar o arquivo snappy para fora do hdfs(Executar no terminal hdfs dfs)\n",
    "\n",
    "#hdfs dfs -get /user/hive/warehouse/data_person_final_parquet/part-00000-9a22957a-114f-486e-bfc4-0e411b6c04a5-c000.snappy.parquet  input/data_project_rox/\n",
    "\n",
    "#sudo mv part-00000-9a22957a-114f-486e-bfc4-0e411b6c04a5-c000.snappy.parquet person.person.parquet"
   ]
  },
  {
   "cell_type": "code",
   "execution_count": null,
   "metadata": {},
   "outputs": [],
   "source": [
    "#exportar o arquivo .csv para fora do hdfs(Executar no terminal hdfs dfs)\n",
    "\n",
    "#hdfs dfs -get /user/root/data_person_final/part-00000-fc79bc9a-f340-4b14-bca5-3c86998d58f5-c000.csv  input/data_project_rox/\n",
    "\n",
    "#sudo mv part-00000-fc79bc9a-f340-4b14-bca5-3c86998d58f5-c000.csv person.person_tratado.csv"
   ]
  },
  {
   "cell_type": "code",
   "execution_count": null,
   "metadata": {},
   "outputs": [],
   "source": [
    "#!hdfs dfs -rm -R /user/root/data_person_final_parquet\n",
    "\n",
    "#!hdfs dfs -rm -R /user/hive/warehouse/data_person_final\n",
    "\n",
    "#!hdfs dfs -rm -R /user/hive/warehouse/data_person_final_snappy"
   ]
  }
 ],
 "metadata": {
  "kernelspec": {
   "display_name": "PySpark",
   "language": "python",
   "name": "pyspark"
  },
  "language_info": {
   "codemirror_mode": {
    "name": "ipython",
    "version": 3
   },
   "file_extension": ".py",
   "mimetype": "text/x-python",
   "name": "python",
   "nbconvert_exporter": "python",
   "pygments_lexer": "ipython3",
   "version": "3.6.10"
  }
 },
 "nbformat": 4,
 "nbformat_minor": 2
}
